{
 "cells": [
  {
   "cell_type": "code",
   "execution_count": 1,
   "id": "64634d12",
   "metadata": {},
   "outputs": [],
   "source": [
    "import sklearn"
   ]
  },
  {
   "cell_type": "code",
   "execution_count": 2,
   "id": "e51657c3",
   "metadata": {},
   "outputs": [],
   "source": [
    "# !python -m pip install sklearn"
   ]
  },
  {
   "cell_type": "code",
   "execution_count": 3,
   "id": "425db221",
   "metadata": {},
   "outputs": [],
   "source": [
    "# %load_ext autoreload\n",
    "\n",
    "# %autoreload 2"
   ]
  },
  {
   "cell_type": "code",
   "execution_count": 4,
   "id": "5ec26edf",
   "metadata": {},
   "outputs": [],
   "source": [
    "import pandas as pd"
   ]
  },
  {
   "cell_type": "code",
   "execution_count": 5,
   "id": "d88a4cbd",
   "metadata": {},
   "outputs": [
    {
     "name": "stdout",
     "output_type": "stream",
     "text": [
      " C 드라이브의 볼륨에는 이름이 없습니다.\n",
      " 볼륨 일련 번호: 008D-D65B\n",
      "\n",
      " C:\\Develops\\test_machinelearning\\files 디렉터리\n",
      "\n",
      "2021-06-29  오후 04:04            21,913 auto-mpg.csv\n",
      "               1개 파일              21,913 바이트\n",
      "               0개 디렉터리   9,051,324,416 바이트 남음\n"
     ]
    }
   ],
   "source": [
    "!dir .\\files\\auto-mpg.csv"
   ]
  },
  {
   "cell_type": "code",
   "execution_count": 6,
   "id": "6e2a79e8",
   "metadata": {},
   "outputs": [
    {
     "data": {
      "text/html": [
       "<div>\n",
       "<style scoped>\n",
       "    .dataframe tbody tr th:only-of-type {\n",
       "        vertical-align: middle;\n",
       "    }\n",
       "\n",
       "    .dataframe tbody tr th {\n",
       "        vertical-align: top;\n",
       "    }\n",
       "\n",
       "    .dataframe thead th {\n",
       "        text-align: right;\n",
       "    }\n",
       "</style>\n",
       "<table border=\"1\" class=\"dataframe\">\n",
       "  <thead>\n",
       "    <tr style=\"text-align: right;\">\n",
       "      <th></th>\n",
       "      <th>0</th>\n",
       "      <th>1</th>\n",
       "      <th>2</th>\n",
       "      <th>3</th>\n",
       "      <th>4</th>\n",
       "      <th>5</th>\n",
       "      <th>6</th>\n",
       "      <th>7</th>\n",
       "      <th>8</th>\n",
       "    </tr>\n",
       "  </thead>\n",
       "  <tbody>\n",
       "    <tr>\n",
       "      <th>0</th>\n",
       "      <td>18.0</td>\n",
       "      <td>8</td>\n",
       "      <td>307.0</td>\n",
       "      <td>130.0</td>\n",
       "      <td>3504.0</td>\n",
       "      <td>12.0</td>\n",
       "      <td>70</td>\n",
       "      <td>1</td>\n",
       "      <td>chevrolet chevelle malibu</td>\n",
       "    </tr>\n",
       "    <tr>\n",
       "      <th>1</th>\n",
       "      <td>15.0</td>\n",
       "      <td>8</td>\n",
       "      <td>350.0</td>\n",
       "      <td>165.0</td>\n",
       "      <td>3693.0</td>\n",
       "      <td>11.5</td>\n",
       "      <td>70</td>\n",
       "      <td>1</td>\n",
       "      <td>buick skylark 320</td>\n",
       "    </tr>\n",
       "    <tr>\n",
       "      <th>2</th>\n",
       "      <td>18.0</td>\n",
       "      <td>8</td>\n",
       "      <td>318.0</td>\n",
       "      <td>150.0</td>\n",
       "      <td>3436.0</td>\n",
       "      <td>11.0</td>\n",
       "      <td>70</td>\n",
       "      <td>1</td>\n",
       "      <td>plymouth satellite</td>\n",
       "    </tr>\n",
       "    <tr>\n",
       "      <th>3</th>\n",
       "      <td>16.0</td>\n",
       "      <td>8</td>\n",
       "      <td>304.0</td>\n",
       "      <td>150.0</td>\n",
       "      <td>3433.0</td>\n",
       "      <td>12.0</td>\n",
       "      <td>70</td>\n",
       "      <td>1</td>\n",
       "      <td>amc rebel sst</td>\n",
       "    </tr>\n",
       "    <tr>\n",
       "      <th>4</th>\n",
       "      <td>17.0</td>\n",
       "      <td>8</td>\n",
       "      <td>302.0</td>\n",
       "      <td>140.0</td>\n",
       "      <td>3449.0</td>\n",
       "      <td>10.5</td>\n",
       "      <td>70</td>\n",
       "      <td>1</td>\n",
       "      <td>ford torino</td>\n",
       "    </tr>\n",
       "    <tr>\n",
       "      <th>...</th>\n",
       "      <td>...</td>\n",
       "      <td>...</td>\n",
       "      <td>...</td>\n",
       "      <td>...</td>\n",
       "      <td>...</td>\n",
       "      <td>...</td>\n",
       "      <td>...</td>\n",
       "      <td>...</td>\n",
       "      <td>...</td>\n",
       "    </tr>\n",
       "    <tr>\n",
       "      <th>393</th>\n",
       "      <td>27.0</td>\n",
       "      <td>4</td>\n",
       "      <td>140.0</td>\n",
       "      <td>86.00</td>\n",
       "      <td>2790.0</td>\n",
       "      <td>15.6</td>\n",
       "      <td>82</td>\n",
       "      <td>1</td>\n",
       "      <td>ford mustang gl</td>\n",
       "    </tr>\n",
       "    <tr>\n",
       "      <th>394</th>\n",
       "      <td>44.0</td>\n",
       "      <td>4</td>\n",
       "      <td>97.0</td>\n",
       "      <td>52.00</td>\n",
       "      <td>2130.0</td>\n",
       "      <td>24.6</td>\n",
       "      <td>82</td>\n",
       "      <td>2</td>\n",
       "      <td>vw pickup</td>\n",
       "    </tr>\n",
       "    <tr>\n",
       "      <th>395</th>\n",
       "      <td>32.0</td>\n",
       "      <td>4</td>\n",
       "      <td>135.0</td>\n",
       "      <td>84.00</td>\n",
       "      <td>2295.0</td>\n",
       "      <td>11.6</td>\n",
       "      <td>82</td>\n",
       "      <td>1</td>\n",
       "      <td>dodge rampage</td>\n",
       "    </tr>\n",
       "    <tr>\n",
       "      <th>396</th>\n",
       "      <td>28.0</td>\n",
       "      <td>4</td>\n",
       "      <td>120.0</td>\n",
       "      <td>79.00</td>\n",
       "      <td>2625.0</td>\n",
       "      <td>18.6</td>\n",
       "      <td>82</td>\n",
       "      <td>1</td>\n",
       "      <td>ford ranger</td>\n",
       "    </tr>\n",
       "    <tr>\n",
       "      <th>397</th>\n",
       "      <td>31.0</td>\n",
       "      <td>4</td>\n",
       "      <td>119.0</td>\n",
       "      <td>82.00</td>\n",
       "      <td>2720.0</td>\n",
       "      <td>19.4</td>\n",
       "      <td>82</td>\n",
       "      <td>1</td>\n",
       "      <td>chevy s-10</td>\n",
       "    </tr>\n",
       "  </tbody>\n",
       "</table>\n",
       "<p>398 rows × 9 columns</p>\n",
       "</div>"
      ],
      "text/plain": [
       "        0  1      2      3       4     5   6  7                          8\n",
       "0    18.0  8  307.0  130.0  3504.0  12.0  70  1  chevrolet chevelle malibu\n",
       "1    15.0  8  350.0  165.0  3693.0  11.5  70  1          buick skylark 320\n",
       "2    18.0  8  318.0  150.0  3436.0  11.0  70  1         plymouth satellite\n",
       "3    16.0  8  304.0  150.0  3433.0  12.0  70  1              amc rebel sst\n",
       "4    17.0  8  302.0  140.0  3449.0  10.5  70  1                ford torino\n",
       "..    ... ..    ...    ...     ...   ...  .. ..                        ...\n",
       "393  27.0  4  140.0  86.00  2790.0  15.6  82  1            ford mustang gl\n",
       "394  44.0  4   97.0  52.00  2130.0  24.6  82  2                  vw pickup\n",
       "395  32.0  4  135.0  84.00  2295.0  11.6  82  1              dodge rampage\n",
       "396  28.0  4  120.0  79.00  2625.0  18.6  82  1                ford ranger\n",
       "397  31.0  4  119.0  82.00  2720.0  19.4  82  1                 chevy s-10\n",
       "\n",
       "[398 rows x 9 columns]"
      ]
     },
     "execution_count": 6,
     "metadata": {},
     "output_type": "execute_result"
    }
   ],
   "source": [
    "pd.read_csv('./files/auto-mpg.csv', header=None)"
   ]
  },
  {
   "cell_type": "code",
   "execution_count": 7,
   "id": "bd81e14f",
   "metadata": {
    "scrolled": true
   },
   "outputs": [
    {
     "name": "stdout",
     "output_type": "stream",
     "text": [
      "<class 'pandas.core.frame.DataFrame'>\n",
      "RangeIndex: 397 entries, 0 to 396\n",
      "Data columns (total 9 columns):\n",
      " #   Column                     Non-Null Count  Dtype  \n",
      "---  ------                     --------------  -----  \n",
      " 0   18.0                       397 non-null    float64\n",
      " 1   8                          397 non-null    int64  \n",
      " 2   307.0                      397 non-null    float64\n",
      " 3   130.0                      397 non-null    object \n",
      " 4   3504.                      397 non-null    float64\n",
      " 5   12.0                       397 non-null    float64\n",
      " 6   70                         397 non-null    int64  \n",
      " 7   1                          397 non-null    int64  \n",
      " 8   chevrolet chevelle malibu  397 non-null    object \n",
      "dtypes: float64(4), int64(3), object(2)\n",
      "memory usage: 28.0+ KB\n"
     ]
    }
   ],
   "source": [
    "pd_data = pd.read_csv('./files/auto-mpg.csv')\n",
    "pd_data.info()"
   ]
  },
  {
   "cell_type": "code",
   "execution_count": 8,
   "id": "a7b3ad62",
   "metadata": {},
   "outputs": [
    {
     "data": {
      "text/plain": [
       "(397, 9)"
      ]
     },
     "execution_count": 8,
     "metadata": {},
     "output_type": "execute_result"
    }
   ],
   "source": [
    "pd_data.shape"
   ]
  },
  {
   "cell_type": "code",
   "execution_count": 9,
   "id": "50862e92",
   "metadata": {},
   "outputs": [],
   "source": [
    "pd_data.columns = ['mpg','cylinders','displacement','horsepower','weight',\n",
    "              'acceleration','model year','origin','name']"
   ]
  },
  {
   "cell_type": "code",
   "execution_count": 10,
   "id": "18607a3d",
   "metadata": {},
   "outputs": [
    {
     "data": {
      "text/html": [
       "<div>\n",
       "<style scoped>\n",
       "    .dataframe tbody tr th:only-of-type {\n",
       "        vertical-align: middle;\n",
       "    }\n",
       "\n",
       "    .dataframe tbody tr th {\n",
       "        vertical-align: top;\n",
       "    }\n",
       "\n",
       "    .dataframe thead th {\n",
       "        text-align: right;\n",
       "    }\n",
       "</style>\n",
       "<table border=\"1\" class=\"dataframe\">\n",
       "  <thead>\n",
       "    <tr style=\"text-align: right;\">\n",
       "      <th></th>\n",
       "      <th>mpg</th>\n",
       "      <th>cylinders</th>\n",
       "      <th>displacement</th>\n",
       "      <th>horsepower</th>\n",
       "      <th>weight</th>\n",
       "      <th>acceleration</th>\n",
       "      <th>model year</th>\n",
       "      <th>origin</th>\n",
       "      <th>name</th>\n",
       "    </tr>\n",
       "  </thead>\n",
       "  <tbody>\n",
       "    <tr>\n",
       "      <th>0</th>\n",
       "      <td>15.0</td>\n",
       "      <td>8</td>\n",
       "      <td>350.0</td>\n",
       "      <td>165.0</td>\n",
       "      <td>3693.0</td>\n",
       "      <td>11.5</td>\n",
       "      <td>70</td>\n",
       "      <td>1</td>\n",
       "      <td>buick skylark 320</td>\n",
       "    </tr>\n",
       "    <tr>\n",
       "      <th>1</th>\n",
       "      <td>18.0</td>\n",
       "      <td>8</td>\n",
       "      <td>318.0</td>\n",
       "      <td>150.0</td>\n",
       "      <td>3436.0</td>\n",
       "      <td>11.0</td>\n",
       "      <td>70</td>\n",
       "      <td>1</td>\n",
       "      <td>plymouth satellite</td>\n",
       "    </tr>\n",
       "    <tr>\n",
       "      <th>2</th>\n",
       "      <td>16.0</td>\n",
       "      <td>8</td>\n",
       "      <td>304.0</td>\n",
       "      <td>150.0</td>\n",
       "      <td>3433.0</td>\n",
       "      <td>12.0</td>\n",
       "      <td>70</td>\n",
       "      <td>1</td>\n",
       "      <td>amc rebel sst</td>\n",
       "    </tr>\n",
       "    <tr>\n",
       "      <th>3</th>\n",
       "      <td>17.0</td>\n",
       "      <td>8</td>\n",
       "      <td>302.0</td>\n",
       "      <td>140.0</td>\n",
       "      <td>3449.0</td>\n",
       "      <td>10.5</td>\n",
       "      <td>70</td>\n",
       "      <td>1</td>\n",
       "      <td>ford torino</td>\n",
       "    </tr>\n",
       "    <tr>\n",
       "      <th>4</th>\n",
       "      <td>15.0</td>\n",
       "      <td>8</td>\n",
       "      <td>429.0</td>\n",
       "      <td>198.0</td>\n",
       "      <td>4341.0</td>\n",
       "      <td>10.0</td>\n",
       "      <td>70</td>\n",
       "      <td>1</td>\n",
       "      <td>ford galaxie 500</td>\n",
       "    </tr>\n",
       "    <tr>\n",
       "      <th>...</th>\n",
       "      <td>...</td>\n",
       "      <td>...</td>\n",
       "      <td>...</td>\n",
       "      <td>...</td>\n",
       "      <td>...</td>\n",
       "      <td>...</td>\n",
       "      <td>...</td>\n",
       "      <td>...</td>\n",
       "      <td>...</td>\n",
       "    </tr>\n",
       "    <tr>\n",
       "      <th>392</th>\n",
       "      <td>27.0</td>\n",
       "      <td>4</td>\n",
       "      <td>140.0</td>\n",
       "      <td>86.00</td>\n",
       "      <td>2790.0</td>\n",
       "      <td>15.6</td>\n",
       "      <td>82</td>\n",
       "      <td>1</td>\n",
       "      <td>ford mustang gl</td>\n",
       "    </tr>\n",
       "    <tr>\n",
       "      <th>393</th>\n",
       "      <td>44.0</td>\n",
       "      <td>4</td>\n",
       "      <td>97.0</td>\n",
       "      <td>52.00</td>\n",
       "      <td>2130.0</td>\n",
       "      <td>24.6</td>\n",
       "      <td>82</td>\n",
       "      <td>2</td>\n",
       "      <td>vw pickup</td>\n",
       "    </tr>\n",
       "    <tr>\n",
       "      <th>394</th>\n",
       "      <td>32.0</td>\n",
       "      <td>4</td>\n",
       "      <td>135.0</td>\n",
       "      <td>84.00</td>\n",
       "      <td>2295.0</td>\n",
       "      <td>11.6</td>\n",
       "      <td>82</td>\n",
       "      <td>1</td>\n",
       "      <td>dodge rampage</td>\n",
       "    </tr>\n",
       "    <tr>\n",
       "      <th>395</th>\n",
       "      <td>28.0</td>\n",
       "      <td>4</td>\n",
       "      <td>120.0</td>\n",
       "      <td>79.00</td>\n",
       "      <td>2625.0</td>\n",
       "      <td>18.6</td>\n",
       "      <td>82</td>\n",
       "      <td>1</td>\n",
       "      <td>ford ranger</td>\n",
       "    </tr>\n",
       "    <tr>\n",
       "      <th>396</th>\n",
       "      <td>31.0</td>\n",
       "      <td>4</td>\n",
       "      <td>119.0</td>\n",
       "      <td>82.00</td>\n",
       "      <td>2720.0</td>\n",
       "      <td>19.4</td>\n",
       "      <td>82</td>\n",
       "      <td>1</td>\n",
       "      <td>chevy s-10</td>\n",
       "    </tr>\n",
       "  </tbody>\n",
       "</table>\n",
       "<p>397 rows × 9 columns</p>\n",
       "</div>"
      ],
      "text/plain": [
       "      mpg  cylinders  displacement horsepower  weight  acceleration  \\\n",
       "0    15.0          8         350.0      165.0  3693.0          11.5   \n",
       "1    18.0          8         318.0      150.0  3436.0          11.0   \n",
       "2    16.0          8         304.0      150.0  3433.0          12.0   \n",
       "3    17.0          8         302.0      140.0  3449.0          10.5   \n",
       "4    15.0          8         429.0      198.0  4341.0          10.0   \n",
       "..    ...        ...           ...        ...     ...           ...   \n",
       "392  27.0          4         140.0      86.00  2790.0          15.6   \n",
       "393  44.0          4          97.0      52.00  2130.0          24.6   \n",
       "394  32.0          4         135.0      84.00  2295.0          11.6   \n",
       "395  28.0          4         120.0      79.00  2625.0          18.6   \n",
       "396  31.0          4         119.0      82.00  2720.0          19.4   \n",
       "\n",
       "     model year  origin                name  \n",
       "0            70       1   buick skylark 320  \n",
       "1            70       1  plymouth satellite  \n",
       "2            70       1       amc rebel sst  \n",
       "3            70       1         ford torino  \n",
       "4            70       1    ford galaxie 500  \n",
       "..          ...     ...                 ...  \n",
       "392          82       1     ford mustang gl  \n",
       "393          82       2           vw pickup  \n",
       "394          82       1       dodge rampage  \n",
       "395          82       1         ford ranger  \n",
       "396          82       1          chevy s-10  \n",
       "\n",
       "[397 rows x 9 columns]"
      ]
     },
     "execution_count": 10,
     "metadata": {},
     "output_type": "execute_result"
    }
   ],
   "source": [
    "pd_data"
   ]
  },
  {
   "cell_type": "code",
   "execution_count": 11,
   "id": "466aff77",
   "metadata": {},
   "outputs": [
    {
     "data": {
      "text/html": [
       "<div>\n",
       "<style scoped>\n",
       "    .dataframe tbody tr th:only-of-type {\n",
       "        vertical-align: middle;\n",
       "    }\n",
       "\n",
       "    .dataframe tbody tr th {\n",
       "        vertical-align: top;\n",
       "    }\n",
       "\n",
       "    .dataframe thead th {\n",
       "        text-align: right;\n",
       "    }\n",
       "</style>\n",
       "<table border=\"1\" class=\"dataframe\">\n",
       "  <thead>\n",
       "    <tr style=\"text-align: right;\">\n",
       "      <th></th>\n",
       "      <th>weight</th>\n",
       "      <th>cylinders</th>\n",
       "      <th>mpg</th>\n",
       "    </tr>\n",
       "  </thead>\n",
       "  <tbody>\n",
       "    <tr>\n",
       "      <th>0</th>\n",
       "      <td>3693.0</td>\n",
       "      <td>8</td>\n",
       "      <td>15.0</td>\n",
       "    </tr>\n",
       "    <tr>\n",
       "      <th>1</th>\n",
       "      <td>3436.0</td>\n",
       "      <td>8</td>\n",
       "      <td>18.0</td>\n",
       "    </tr>\n",
       "    <tr>\n",
       "      <th>2</th>\n",
       "      <td>3433.0</td>\n",
       "      <td>8</td>\n",
       "      <td>16.0</td>\n",
       "    </tr>\n",
       "    <tr>\n",
       "      <th>3</th>\n",
       "      <td>3449.0</td>\n",
       "      <td>8</td>\n",
       "      <td>17.0</td>\n",
       "    </tr>\n",
       "    <tr>\n",
       "      <th>4</th>\n",
       "      <td>4341.0</td>\n",
       "      <td>8</td>\n",
       "      <td>15.0</td>\n",
       "    </tr>\n",
       "    <tr>\n",
       "      <th>...</th>\n",
       "      <td>...</td>\n",
       "      <td>...</td>\n",
       "      <td>...</td>\n",
       "    </tr>\n",
       "    <tr>\n",
       "      <th>392</th>\n",
       "      <td>2790.0</td>\n",
       "      <td>4</td>\n",
       "      <td>27.0</td>\n",
       "    </tr>\n",
       "    <tr>\n",
       "      <th>393</th>\n",
       "      <td>2130.0</td>\n",
       "      <td>4</td>\n",
       "      <td>44.0</td>\n",
       "    </tr>\n",
       "    <tr>\n",
       "      <th>394</th>\n",
       "      <td>2295.0</td>\n",
       "      <td>4</td>\n",
       "      <td>32.0</td>\n",
       "    </tr>\n",
       "    <tr>\n",
       "      <th>395</th>\n",
       "      <td>2625.0</td>\n",
       "      <td>4</td>\n",
       "      <td>28.0</td>\n",
       "    </tr>\n",
       "    <tr>\n",
       "      <th>396</th>\n",
       "      <td>2720.0</td>\n",
       "      <td>4</td>\n",
       "      <td>31.0</td>\n",
       "    </tr>\n",
       "  </tbody>\n",
       "</table>\n",
       "<p>397 rows × 3 columns</p>\n",
       "</div>"
      ],
      "text/plain": [
       "     weight  cylinders   mpg\n",
       "0    3693.0          8  15.0\n",
       "1    3436.0          8  18.0\n",
       "2    3433.0          8  16.0\n",
       "3    3449.0          8  17.0\n",
       "4    4341.0          8  15.0\n",
       "..      ...        ...   ...\n",
       "392  2790.0          4  27.0\n",
       "393  2130.0          4  44.0\n",
       "394  2295.0          4  32.0\n",
       "395  2625.0          4  28.0\n",
       "396  2720.0          4  31.0\n",
       "\n",
       "[397 rows x 3 columns]"
      ]
     },
     "execution_count": 11,
     "metadata": {},
     "output_type": "execute_result"
    }
   ],
   "source": [
    "pd_data[['weight','cylinders','mpg']]"
   ]
  },
  {
   "cell_type": "markdown",
   "id": "27ebe987",
   "metadata": {},
   "source": [
    "df.columns = ['mpg','cylinders','displacement','horsepower','weight',\n",
    "              'acceleration','model year','origin','name']"
   ]
  },
  {
   "cell_type": "code",
   "execution_count": 12,
   "id": "3e851ae5",
   "metadata": {},
   "outputs": [],
   "source": [
    "x = pd_data[['weight','cylinders']]"
   ]
  },
  {
   "cell_type": "code",
   "execution_count": 13,
   "id": "76eca2c4",
   "metadata": {},
   "outputs": [],
   "source": [
    "y = pd_data[['mpg']]"
   ]
  },
  {
   "cell_type": "code",
   "execution_count": 14,
   "id": "57b8489f",
   "metadata": {},
   "outputs": [
    {
     "data": {
      "text/plain": [
       "((397, 2), (397, 1))"
      ]
     },
     "execution_count": 14,
     "metadata": {},
     "output_type": "execute_result"
    }
   ],
   "source": [
    "x.shape, y.shape"
   ]
  },
  {
   "cell_type": "code",
   "execution_count": 15,
   "id": "17708e53",
   "metadata": {},
   "outputs": [],
   "source": [
    "from sklearn.model_selection import train_test_split"
   ]
  },
  {
   "cell_type": "code",
   "execution_count": 16,
   "id": "691316a0",
   "metadata": {},
   "outputs": [
    {
     "data": {
      "text/plain": [
       "[     weight  cylinders\n",
       " 116  1867.0          4\n",
       " 144  2003.0          4\n",
       " 320  2265.0          4\n",
       " 321  2110.0          4\n",
       " 336  2290.0          4\n",
       " ..      ...        ...\n",
       " 224  3520.0          6\n",
       " 353  2320.0          4\n",
       " 329  1835.0          4\n",
       " 257  3380.0          6\n",
       " 356  2615.0          4\n",
       " \n",
       " [297 rows x 2 columns],\n",
       "      weight  cylinders\n",
       " 280  2990.0          6\n",
       " 58   2254.0          4\n",
       " 221  4060.0          8\n",
       " 109  2379.0          4\n",
       " 24   4615.0          8\n",
       " ..      ...        ...\n",
       " 112  2472.0          6\n",
       " 371  2735.0          4\n",
       " 342  1755.0          4\n",
       " 276  3410.0          6\n",
       " 253  2965.0          6\n",
       " \n",
       " [100 rows x 2 columns],\n",
       "       mpg\n",
       " 116  29.0\n",
       " 144  32.0\n",
       " 320  32.2\n",
       " 321  46.6\n",
       " 336  32.4\n",
       " ..    ...\n",
       " 224  17.5\n",
       " 353  34.5\n",
       " 329  40.9\n",
       " 257  20.6\n",
       " 356  32.9\n",
       " \n",
       " [297 rows x 1 columns],\n",
       "       mpg\n",
       " 280  19.8\n",
       " 58   23.0\n",
       " 221  17.0\n",
       " 109  22.0\n",
       " 24   10.0\n",
       " ..    ...\n",
       " 112  21.0\n",
       " 371  27.0\n",
       " 342  39.1\n",
       " 276  16.2\n",
       " 253  20.2\n",
       " \n",
       " [100 rows x 1 columns]]"
      ]
     },
     "execution_count": 16,
     "metadata": {},
     "output_type": "execute_result"
    }
   ],
   "source": [
    "train_test_split(x,y)"
   ]
  },
  {
   "cell_type": "code",
   "execution_count": 17,
   "id": "1461ca67",
   "metadata": {},
   "outputs": [
    {
     "data": {
      "text/plain": [
       "((297, 2), (100, 2), (297, 1), (100, 1))"
      ]
     },
     "execution_count": 17,
     "metadata": {},
     "output_type": "execute_result"
    }
   ],
   "source": [
    "X_train, X_test, Y_train, Y_test = train_test_split(x,y)\n",
    "X_train.shape, X_test.shape, Y_train.shape, Y_test.shape"
   ]
  },
  {
   "cell_type": "code",
   "execution_count": 18,
   "id": "02408567",
   "metadata": {},
   "outputs": [],
   "source": [
    "from sklearn.linear_model import LinearRegression"
   ]
  },
  {
   "cell_type": "code",
   "execution_count": 19,
   "id": "f211f2cb",
   "metadata": {},
   "outputs": [],
   "source": [
    "lr = LinearRegression()"
   ]
  },
  {
   "cell_type": "code",
   "execution_count": 20,
   "id": "0fce48ba",
   "metadata": {},
   "outputs": [
    {
     "data": {
      "text/plain": [
       "LinearRegression()"
      ]
     },
     "execution_count": 20,
     "metadata": {},
     "output_type": "execute_result"
    }
   ],
   "source": [
    "# lr.fit(x,y)\n",
    "lr.fit(X_train, Y_train)"
   ]
  },
  {
   "cell_type": "markdown",
   "id": "440c6f77",
   "metadata": {},
   "source": [
    "함수 내부적으로 x,y에 대한 선형회귀선 형성"
   ]
  },
  {
   "cell_type": "code",
   "execution_count": 21,
   "id": "df7d0575",
   "metadata": {},
   "outputs": [
    {
     "data": {
      "text/plain": [
       "(array([[-0.00626491, -0.74936761]]), array([46.27335624]))"
      ]
     },
     "execution_count": 21,
     "metadata": {},
     "output_type": "execute_result"
    }
   ],
   "source": [
    "# total data\n",
    "lr.coef_, lr.intercept_"
   ]
  },
  {
   "cell_type": "code",
   "execution_count": 22,
   "id": "18a1799f",
   "metadata": {},
   "outputs": [
    {
     "data": {
      "text/plain": [
       "(array([[-0.00626491, -0.74936761]]), array([46.27335624]))"
      ]
     },
     "execution_count": 22,
     "metadata": {},
     "output_type": "execute_result"
    }
   ],
   "source": [
    "# split data_ with 1 column\n",
    "lr.coef_, lr.intercept_"
   ]
  },
  {
   "cell_type": "markdown",
   "id": "1096c150",
   "metadata": {},
   "source": [
    "coefficient : 계수, intercept : 절편\n",
    "\n",
    "y = -0.00587258x_1 -0.90142825x_2 + 45.78158824"
   ]
  },
  {
   "cell_type": "code",
   "execution_count": 23,
   "id": "bf0fcf59",
   "metadata": {},
   "outputs": [
    {
     "data": {
      "text/plain": [
       "0.6958939116416175"
      ]
     },
     "execution_count": 23,
     "metadata": {},
     "output_type": "execute_result"
    }
   ],
   "source": [
    "# check with total data\n",
    "lr.score(x,y)"
   ]
  },
  {
   "cell_type": "markdown",
   "id": "e759d84b",
   "metadata": {},
   "source": [
    "해당 linearRegression의 정확성  R^2 인듯"
   ]
  },
  {
   "cell_type": "code",
   "execution_count": 24,
   "id": "86321e98",
   "metadata": {},
   "outputs": [
    {
     "data": {
      "text/plain": [
       "0.7144996186530674"
      ]
     },
     "execution_count": 24,
     "metadata": {},
     "output_type": "execute_result"
    }
   ],
   "source": [
    "# check with one part split train data \n",
    "lr.score(X_train,  Y_train)"
   ]
  },
  {
   "cell_type": "code",
   "execution_count": 25,
   "id": "a57887ad",
   "metadata": {},
   "outputs": [
    {
     "data": {
      "text/plain": [
       "0.6457006111922838"
      ]
     },
     "execution_count": 25,
     "metadata": {},
     "output_type": "execute_result"
    }
   ],
   "source": [
    "# check with one part split train data \n",
    "lr.score(X_test,  Y_test)"
   ]
  },
  {
   "cell_type": "code",
   "execution_count": 26,
   "id": "9f5e4c82",
   "metadata": {},
   "outputs": [],
   "source": [
    "# weight = cylinders\n",
    "# lr.predict([3504.0, 8])"
   ]
  },
  {
   "cell_type": "code",
   "execution_count": 27,
   "id": "582f1bca",
   "metadata": {},
   "outputs": [
    {
     "data": {
      "text/plain": [
       "sklearn.linear_model._base.LinearRegression"
      ]
     },
     "execution_count": 27,
     "metadata": {},
     "output_type": "execute_result"
    }
   ],
   "source": [
    "type(lr)"
   ]
  },
  {
   "cell_type": "code",
   "execution_count": 28,
   "id": "219cac55",
   "metadata": {},
   "outputs": [],
   "source": [
    "import pickle"
   ]
  },
  {
   "cell_type": "code",
   "execution_count": 30,
   "id": "844788e7",
   "metadata": {},
   "outputs": [],
   "source": [
    "pickle.dump(lr, open('./files/lr.pkl', 'wb'))"
   ]
  },
  {
   "cell_type": "code",
   "execution_count": 33,
   "id": "cfb032f4",
   "metadata": {
    "collapsed": true
   },
   "outputs": [
    {
     "data": {
      "text/plain": [
       "array([[24.46235751],\n",
       "       [10.54514688],\n",
       "       [18.77097527],\n",
       "       [28.42804629],\n",
       "       [12.80677982],\n",
       "       [29.43043208],\n",
       "       [19.02299316],\n",
       "       [18.85241912],\n",
       "       [27.61360784],\n",
       "       [30.74606343],\n",
       "       [20.19453155],\n",
       "       [22.73808549],\n",
       "       [ 8.07677187],\n",
       "       [30.71858205],\n",
       "       [22.11159438],\n",
       "       [29.7750022 ],\n",
       "       [26.83049394],\n",
       "       [29.48055137],\n",
       "       [12.07378521],\n",
       "       [19.14202647],\n",
       "       [31.99904567],\n",
       "       [29.00441812],\n",
       "       [20.28850522],\n",
       "       [17.2736615 ],\n",
       "       [26.14135371],\n",
       "       [30.93401077],\n",
       "       [25.27537453],\n",
       "       [31.14075284],\n",
       "       [28.92923919],\n",
       "       [31.05930899],\n",
       "       [29.84391622],\n",
       "       [28.33407262],\n",
       "       [16.94162121],\n",
       "       [27.68252186],\n",
       "       [13.18267449],\n",
       "       [29.718618  ],\n",
       "       [14.34168306],\n",
       "       [21.17812261],\n",
       "       [16.61584582],\n",
       "       [19.09817209],\n",
       "       [16.75367387],\n",
       "       [27.23771317],\n",
       "       [31.78603869],\n",
       "       [26.98711672],\n",
       "       [30.62076521],\n",
       "       [29.20489528],\n",
       "       [23.60264324],\n",
       "       [31.21593177],\n",
       "       [25.73413448],\n",
       "       [13.73398668],\n",
       "       [32.03037023],\n",
       "       [21.77328917],\n",
       "       [24.70526761],\n",
       "       [26.29171158],\n",
       "       [27.57601837],\n",
       "       [23.54141557],\n",
       "       [12.55618337],\n",
       "       [14.84287596],\n",
       "       [29.55573031],\n",
       "       [29.7750022 ],\n",
       "       [16.34018973],\n",
       "       [28.39672174],\n",
       "       [29.39910753],\n",
       "       [22.0113558 ],\n",
       "       [14.41059708],\n",
       "       [12.09884486],\n",
       "       [30.58944065],\n",
       "       [19.03552298],\n",
       "       [16.87897209],\n",
       "       [23.08265561],\n",
       "       [29.99427409],\n",
       "       [ 9.23578044],\n",
       "       [14.87420051],\n",
       "       [14.88046542],\n",
       "       [29.09212688],\n",
       "       [21.99256106],\n",
       "       [29.75620746],\n",
       "       [10.63285564],\n",
       "       [18.06446175],\n",
       "       [27.45698506],\n",
       "       [31.77350887],\n",
       "       [13.12002538],\n",
       "       [20.19937502],\n",
       "       [24.26188035],\n",
       "       [33.17058406],\n",
       "       [26.53604311],\n",
       "       [25.2955907 ],\n",
       "       [30.62703012],\n",
       "       [29.93162498],\n",
       "       [22.60652236],\n",
       "       [31.05930899],\n",
       "       [28.29648316],\n",
       "       [13.47712532],\n",
       "       [25.38956437],\n",
       "       [23.22048366],\n",
       "       [28.27142351],\n",
       "       [14.60480933],\n",
       "       [23.52119939],\n",
       "       [26.73652027],\n",
       "       [23.42096081],\n",
       "       [29.90030042],\n",
       "       [29.36778297],\n",
       "       [22.78962622],\n",
       "       [24.61271538],\n",
       "       [24.01612738],\n",
       "       [29.15477599],\n",
       "       [22.91492445],\n",
       "       [22.22436278],\n",
       "       [24.39828696],\n",
       "       [20.92126125],\n",
       "       [21.44751379],\n",
       "       [16.7160844 ],\n",
       "       [28.86659008],\n",
       "       [30.8400371 ],\n",
       "       [30.8400371 ],\n",
       "       [30.28246   ],\n",
       "       [27.1437395 ],\n",
       "       [14.71757773],\n",
       "       [27.83914464],\n",
       "       [23.32698715],\n",
       "       [23.42096081],\n",
       "       [29.31766368],\n",
       "       [26.95579216],\n",
       "       [29.28007421],\n",
       "       [30.43281787],\n",
       "       [12.86316402],\n",
       "       [28.86416834],\n",
       "       [28.89791463],\n",
       "       [25.76545904],\n",
       "       [21.21571208],\n",
       "       [30.33884421],\n",
       "       [20.59548587],\n",
       "       [20.2759754 ],\n",
       "       [ 9.54276109],\n",
       "       [23.60890815],\n",
       "       [28.18997967],\n",
       "       [30.33884421],\n",
       "       [15.89538104],\n",
       "       [29.97547936],\n",
       "       [19.19698923],\n",
       "       [11.03380995],\n",
       "       [16.28380553],\n",
       "       [26.0787046 ],\n",
       "       [13.08243591],\n",
       "       [27.67625695],\n",
       "       [23.29081912],\n",
       "       [30.0569232 ],\n",
       "       [21.98003124],\n",
       "       [17.95653682],\n",
       "       [29.3301935 ],\n",
       "       [22.44989958],\n",
       "       [20.41380344],\n",
       "       [30.8400371 ],\n",
       "       [25.18766577],\n",
       "       [20.41380344],\n",
       "       [20.31982978],\n",
       "       [28.23383405],\n",
       "       [30.96533532],\n",
       "       [26.54857294],\n",
       "       [26.8618185 ],\n",
       "       [16.22115642],\n",
       "       [17.14209836],\n",
       "       [20.77090338],\n",
       "       [17.2736615 ],\n",
       "       [31.99904567],\n",
       "       [13.90940419],\n",
       "       [30.11957231],\n",
       "       [27.26277281],\n",
       "       [29.93162498],\n",
       "       [27.03723601],\n",
       "       [30.45787752],\n",
       "       [30.27619509],\n",
       "       [27.35048157],\n",
       "       [11.36585025],\n",
       "       [27.54469382],\n",
       "       [20.10682279],\n",
       "       [29.55573031],\n",
       "       [12.36197113],\n",
       "       [16.03320908],\n",
       "       [15.5946653 ],\n",
       "       [17.6683509 ],\n",
       "       [29.34898824],\n",
       "       [17.84518986],\n",
       "       [18.40903186],\n",
       "       [26.29029014],\n",
       "       [29.80632675],\n",
       "       [24.30431329],\n",
       "       [32.16819827],\n",
       "       [20.41138171],\n",
       "       [12.83810438],\n",
       "       [24.86189039],\n",
       "       [20.09913644],\n",
       "       [12.35570621],\n",
       "       [13.50218496],\n",
       "       [22.9072381 ],\n",
       "       [29.08586197],\n",
       "       [25.79678359],\n",
       "       [29.74367764],\n",
       "       [ 9.26084009],\n",
       "       [18.98398225],\n",
       "       [17.36279169],\n",
       "       [27.92058849],\n",
       "       [29.37404788],\n",
       "       [17.91268244],\n",
       "       [29.83765131],\n",
       "       [13.84049017],\n",
       "       [28.37166209],\n",
       "       [28.27142351],\n",
       "       [26.98469498],\n",
       "       [23.04506614],\n",
       "       [17.69341055],\n",
       "       [21.66678568],\n",
       "       [31.84242289],\n",
       "       [26.01605549],\n",
       "       [31.68580011],\n",
       "       [30.87136166],\n",
       "       [14.0284375 ],\n",
       "       [29.56199522],\n",
       "       [26.23532738],\n",
       "       [14.70504791],\n",
       "       [27.35048157],\n",
       "       [24.1414256 ],\n",
       "       [30.90268621],\n",
       "       [23.54625904],\n",
       "       [28.64731818],\n",
       "       [25.17029247],\n",
       "       [ 8.97265417],\n",
       "       [10.83959771],\n",
       "       [13.37688674],\n",
       "       [30.52679154],\n",
       "       [12.4622097 ],\n",
       "       [20.60175078],\n",
       "       [26.74278518],\n",
       "       [18.94154931],\n",
       "       [13.00099207],\n",
       "       [15.29394956],\n",
       "       [14.59227951],\n",
       "       [30.46414243],\n",
       "       [19.69333866],\n",
       "       [27.08109039],\n",
       "       [14.95564436],\n",
       "       [24.0450302 ],\n",
       "       [32.03037023],\n",
       "       [30.97786515],\n",
       "       [27.16253423],\n",
       "       [24.75054342],\n",
       "       [30.7272687 ],\n",
       "       [16.94162121],\n",
       "       [15.5946653 ],\n",
       "       [26.23532738],\n",
       "       [13.26411834],\n",
       "       [20.727049  ],\n",
       "       [12.31185184],\n",
       "       [32.24964212],\n",
       "       [23.76553093],\n",
       "       [14.2539743 ],\n",
       "       [29.14851108],\n",
       "       [29.42801035],\n",
       "       [30.06945302],\n",
       "       [31.77977378],\n",
       "       [25.56982535],\n",
       "       [28.94176901],\n",
       "       [29.67476362],\n",
       "       [11.12151871],\n",
       "       [29.49308119],\n",
       "       [12.09257994],\n",
       "       [18.75218054],\n",
       "       [19.72466321],\n",
       "       [14.73637247],\n",
       "       [26.76784483],\n",
       "       [31.1219581 ],\n",
       "       [23.32698715],\n",
       "       [25.32691525],\n",
       "       [22.88844336],\n",
       "       [12.57497811],\n",
       "       [31.14075284],\n",
       "       [13.87181472],\n",
       "       [29.96294953],\n",
       "       [28.36539718],\n",
       "       [21.09041385],\n",
       "       [31.02798444],\n",
       "       [30.42655296],\n",
       "       [27.20638861],\n",
       "       [15.97055997],\n",
       "       [20.06923333],\n",
       "       [30.90268621],\n",
       "       [25.07631881],\n",
       "       [26.54857294],\n",
       "       [26.57989749],\n",
       "       [20.38247889],\n",
       "       [19.63068954],\n",
       "       [28.02709198],\n",
       "       [22.10532946],\n",
       "       [12.31185184],\n",
       "       [29.96294953],\n",
       "       [11.25308185],\n",
       "       [30.30751965]])"
      ]
     },
     "execution_count": 33,
     "metadata": {},
     "output_type": "execute_result"
    }
   ],
   "source": [
    "y_predict = lr.predict(X_train)\n",
    "y_predict"
   ]
  },
  {
   "cell_type": "code",
   "execution_count": 35,
   "id": "556740c4",
   "metadata": {},
   "outputs": [
    {
     "data": {
      "text/html": [
       "<div>\n",
       "<style scoped>\n",
       "    .dataframe tbody tr th:only-of-type {\n",
       "        vertical-align: middle;\n",
       "    }\n",
       "\n",
       "    .dataframe tbody tr th {\n",
       "        vertical-align: top;\n",
       "    }\n",
       "\n",
       "    .dataframe thead th {\n",
       "        text-align: right;\n",
       "    }\n",
       "</style>\n",
       "<table border=\"1\" class=\"dataframe\">\n",
       "  <thead>\n",
       "    <tr style=\"text-align: right;\">\n",
       "      <th></th>\n",
       "      <th>mpg</th>\n",
       "    </tr>\n",
       "  </thead>\n",
       "  <tbody>\n",
       "    <tr>\n",
       "      <th>314</th>\n",
       "      <td>0.162358</td>\n",
       "    </tr>\n",
       "    <tr>\n",
       "      <th>42</th>\n",
       "      <td>-2.454853</td>\n",
       "    </tr>\n",
       "    <tr>\n",
       "      <th>2</th>\n",
       "      <td>2.770975</td>\n",
       "    </tr>\n",
       "    <tr>\n",
       "      <th>390</th>\n",
       "      <td>-7.571954</td>\n",
       "    </tr>\n",
       "    <tr>\n",
       "      <th>62</th>\n",
       "      <td>-1.193220</td>\n",
       "    </tr>\n",
       "    <tr>\n",
       "      <th>...</th>\n",
       "      <td>...</td>\n",
       "    </tr>\n",
       "    <tr>\n",
       "      <th>274</th>\n",
       "      <td>5.105329</td>\n",
       "    </tr>\n",
       "    <tr>\n",
       "      <th>90</th>\n",
       "      <td>-0.688148</td>\n",
       "    </tr>\n",
       "    <tr>\n",
       "      <th>145</th>\n",
       "      <td>1.962950</td>\n",
       "    </tr>\n",
       "    <tr>\n",
       "      <th>66</th>\n",
       "      <td>0.253082</td>\n",
       "    </tr>\n",
       "    <tr>\n",
       "      <th>246</th>\n",
       "      <td>-9.092480</td>\n",
       "    </tr>\n",
       "  </tbody>\n",
       "</table>\n",
       "<p>297 rows × 1 columns</p>\n",
       "</div>"
      ],
      "text/plain": [
       "          mpg\n",
       "314  0.162358\n",
       "42  -2.454853\n",
       "2    2.770975\n",
       "390 -7.571954\n",
       "62  -1.193220\n",
       "..        ...\n",
       "274  5.105329\n",
       "90  -0.688148\n",
       "145  1.962950\n",
       "66   0.253082\n",
       "246 -9.092480\n",
       "\n",
       "[297 rows x 1 columns]"
      ]
     },
     "execution_count": 35,
     "metadata": {},
     "output_type": "execute_result"
    }
   ],
   "source": [
    "y_result = y_predict - Y_train\n",
    "y_result"
   ]
  },
  {
   "cell_type": "code",
   "execution_count": 36,
   "id": "b23feb16",
   "metadata": {},
   "outputs": [
    {
     "data": {
      "text/plain": [
       "0.7144996186530674"
      ]
     },
     "execution_count": 36,
     "metadata": {},
     "output_type": "execute_result"
    }
   ],
   "source": [
    "lr.score(X_train, Y_train)"
   ]
  },
  {
   "cell_type": "code",
   "execution_count": null,
   "id": "72cb5f5d",
   "metadata": {},
   "outputs": [],
   "source": []
  }
 ],
 "metadata": {
  "kernelspec": {
   "display_name": "Python 3",
   "language": "python",
   "name": "python3"
  },
  "language_info": {
   "codemirror_mode": {
    "name": "ipython",
    "version": 3
   },
   "file_extension": ".py",
   "mimetype": "text/x-python",
   "name": "python",
   "nbconvert_exporter": "python",
   "pygments_lexer": "ipython3",
   "version": "3.6.4"
  }
 },
 "nbformat": 4,
 "nbformat_minor": 5
}
